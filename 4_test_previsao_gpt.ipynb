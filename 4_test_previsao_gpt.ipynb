{
 "cells": [
  {
   "cell_type": "code",
   "execution_count": null,
   "id": "053b9be9",
   "metadata": {},
   "outputs": [],
   "source": [
    "import pandas as pd\n",
    "import numpy as np\n",
    "from tqdm import tqdm\n",
    "from sklearn.model_selection import train_test_split\n",
    "import re\n",
    "from collections import Counter\n",
    "from math import log\n",
    "import spacy\n",
    "from typing import List, Dict"
   ]
  },
  {
   "cell_type": "code",
   "execution_count": null,
   "id": "6750b6cd",
   "metadata": {},
   "outputs": [],
   "source": [
    "# Configurações globais\n",
    "EMOTICON_PATTERN = r'[:;=8][\\-^]?[)DpP(]'\n",
    "URL_PATTERN = r'http\\S+|www\\S+|https\\S+'\n",
    "MENTION_PATTERN = r'@\\w+'\n",
    "HASHTAG_PATTERN = r'#\\w+'\n",
    "\n",
    "# Inicializa spaCy\n",
    "nlp = spacy.load(\"en_core_web_sm\")"
   ]
  },
  {
   "cell_type": "code",
   "execution_count": null,
   "id": "6122d82a",
   "metadata": {},
   "outputs": [],
   "source": [
    "# Input do usuário\n",
    "text_input = input(\"Digite um texto para classificação: \")"
   ]
  },
  {
   "cell_type": "code",
   "execution_count": null,
   "id": "6b3796b7",
   "metadata": {},
   "outputs": [],
   "source": [
    "# Lista de n-grams específicos\n",
    "SPECIFIC_NGRAMS = [\n",
    "    ('https',), ('modi',), ('co',), ('https', 'co'), ('the',), ('of',)\n",
    "]\n",
    "\n",
    "def extract_features(text: str) -> Dict:\n",
    "    \"\"\"Extrai features selecionadas e n-grams específicos de uma frase\"\"\"\n",
    "    doc = nlp(text)\n",
    "    words = [token.text.lower() for token in doc if not token.is_punct and not token.is_space]\n",
    "    word_count = len(words)\n",
    "    char_count = sum(len(word) for word in words)\n",
    "\n",
    "    # Syntactic features\n",
    "    pos_tags = [token.pos_ for token in doc]\n",
    "    pos_bigrams = list(zip(pos_tags[:-1], pos_tags[1:]))\n",
    "    sentences = list(doc.sents)\n",
    "    sentence_lengths = [len([token for token in sent if not token.is_punct and not token.is_space]) for sent in sentences]\n",
    "\n",
    "    def entropy(counter, total):\n",
    "        return -sum((count / total) * log(count / total) for count in counter.values()) if total else 0\n",
    "\n",
    "    features = {\n",
    "        # Lexical\n",
    "        'lexical_avg_word_length': char_count / max(1, word_count),\n",
    "        'lexical_word_length_variance': np.var([len(word) for word in words]) if word_count > 1 else 0,\n",
    "        \n",
    "        # Syntactic\n",
    "        'syntactic_pos_tag_entropy': entropy(Counter(pos_tags), len(pos_tags)),\n",
    "        'syntactic_pos_bigram_entropy': entropy(Counter(pos_bigrams), len(pos_bigrams)),\n",
    "        'syntactic_avg_sentence_length': np.mean(sentence_lengths) if sentence_lengths else 0,\n",
    "        'syntactic_comma_ratio': sum(1 for token in doc if token.text == ',') / max(1, len(sentences)),\n",
    "        'syntactic_punct_ratio': sum(1 for token in doc if token.is_punct) / max(1, len(doc)),\n",
    "\n",
    "        # Stylistic\n",
    "        'stylistic_random_uppercase': int(bool(re.search(r'\\b[a-zA-Z]*[A-Z][a-zA-Z]*[A-Z][a-zA-Z]*\\b', text))),\n",
    "        'stylistic_capitalization_inconsistency': sum(1 for word in text.split() if not word.isupper() and not word.islower() and not word.istitle()) / max(1, word_count),\n",
    "\n",
    "        # Structural\n",
    "        'structural_has_url': int(bool(re.search(URL_PATTERN, text))),\n",
    "        'structural_has_hashtag': int(bool(re.search(HASHTAG_PATTERN, text))),\n",
    "        'structural_hashtag_density': len(re.findall(HASHTAG_PATTERN, text)) / max(1, word_count),\n",
    "        'structural_extra_spaces': len(re.findall(r'\\s{2,}', text)) / max(1, word_count),\n",
    "        'structural_url_density': len(re.findall(URL_PATTERN, text)) / max(1, word_count),\n",
    "    }\n",
    "\n",
    "    # N-grams específicos\n",
    "    for ngram in SPECIFIC_NGRAMS:\n",
    "        n = len(ngram)\n",
    "        ngrams_in_text = zip(*[words[i:] for i in range(n)])\n",
    "        count = sum(1 for ng in ngrams_in_text if ng == ngram)\n",
    "        features[f'ngram_{\"_\".join(ngram)}'] = count\n",
    "\n",
    "    return features"
   ]
  }
 ],
 "metadata": {
  "language_info": {
   "name": "python"
  }
 },
 "nbformat": 4,
 "nbformat_minor": 5
}
