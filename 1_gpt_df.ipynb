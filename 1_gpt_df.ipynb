{
 "cells": [
  {
   "cell_type": "code",
   "execution_count": 61,
   "metadata": {},
   "outputs": [],
   "source": [
    "import pandas as pd"
   ]
  },
  {
   "cell_type": "code",
   "execution_count": 62,
   "metadata": {},
   "outputs": [
    {
     "name": "stderr",
     "output_type": "stream",
     "text": [
      "C:\\Users\\t213792\\AppData\\Local\\Temp\\ipykernel_15868\\2960457084.py:1: DtypeWarning: Columns (2) have mixed types. Specify dtype option on import or set low_memory=False.\n",
      "  df = pd.read_csv(\"database/concat_df.csv\")\n"
     ]
    },
    {
     "data": {
      "text/html": [
       "<div>\n",
       "<style scoped>\n",
       "    .dataframe tbody tr th:only-of-type {\n",
       "        vertical-align: middle;\n",
       "    }\n",
       "\n",
       "    .dataframe tbody tr th {\n",
       "        vertical-align: top;\n",
       "    }\n",
       "\n",
       "    .dataframe thead th {\n",
       "        text-align: right;\n",
       "    }\n",
       "</style>\n",
       "<table border=\"1\" class=\"dataframe\">\n",
       "  <thead>\n",
       "    <tr style=\"text-align: right;\">\n",
       "      <th></th>\n",
       "      <th>text</th>\n",
       "      <th>origin</th>\n",
       "      <th>model</th>\n",
       "    </tr>\n",
       "  </thead>\n",
       "  <tbody>\n",
       "    <tr>\n",
       "      <th>0</th>\n",
       "      <td>when modi promised “minimum government maximum...</td>\n",
       "      <td>human</td>\n",
       "      <td>NaN</td>\n",
       "    </tr>\n",
       "    <tr>\n",
       "      <th>1</th>\n",
       "      <td>talk all the nonsense and continue all the dra...</td>\n",
       "      <td>human</td>\n",
       "      <td>NaN</td>\n",
       "    </tr>\n",
       "    <tr>\n",
       "      <th>2</th>\n",
       "      <td>asking his supporters prefix chowkidar their n...</td>\n",
       "      <td>human</td>\n",
       "      <td>NaN</td>\n",
       "    </tr>\n",
       "    <tr>\n",
       "      <th>3</th>\n",
       "      <td>answer who among these the most powerful world...</td>\n",
       "      <td>human</td>\n",
       "      <td>NaN</td>\n",
       "    </tr>\n",
       "    <tr>\n",
       "      <th>4</th>\n",
       "      <td>kiya tho refresh maarkefir comment karo</td>\n",
       "      <td>human</td>\n",
       "      <td>NaN</td>\n",
       "    </tr>\n",
       "  </tbody>\n",
       "</table>\n",
       "</div>"
      ],
      "text/plain": [
       "                                                text origin model\n",
       "0  when modi promised “minimum government maximum...  human   NaN\n",
       "1  talk all the nonsense and continue all the dra...  human   NaN\n",
       "2  asking his supporters prefix chowkidar their n...  human   NaN\n",
       "3  answer who among these the most powerful world...  human   NaN\n",
       "4           kiya tho refresh maarkefir comment karo   human   NaN"
      ]
     },
     "execution_count": 62,
     "metadata": {},
     "output_type": "execute_result"
    }
   ],
   "source": [
    "df = pd.read_csv(\"database/concat_df.csv\")\n",
    "df.head()"
   ]
  },
  {
   "cell_type": "code",
   "execution_count": 63,
   "metadata": {},
   "outputs": [
    {
     "data": {
      "text/html": [
       "<div>\n",
       "<style scoped>\n",
       "    .dataframe tbody tr th:only-of-type {\n",
       "        vertical-align: middle;\n",
       "    }\n",
       "\n",
       "    .dataframe tbody tr th {\n",
       "        vertical-align: top;\n",
       "    }\n",
       "\n",
       "    .dataframe thead th {\n",
       "        text-align: right;\n",
       "    }\n",
       "</style>\n",
       "<table border=\"1\" class=\"dataframe\">\n",
       "  <thead>\n",
       "    <tr style=\"text-align: right;\">\n",
       "      <th></th>\n",
       "      <th>#YIAYplan Use my awesome collection of Amiibos to destroy all in my path.</th>\n",
       "      <th>Unnamed: 1</th>\n",
       "    </tr>\n",
       "  </thead>\n",
       "  <tbody>\n",
       "    <tr>\n",
       "      <th>0</th>\n",
       "      <td>@LightUmUpBeast never watched pres think hes o...</td>\n",
       "      <td>NaN</td>\n",
       "    </tr>\n",
       "    <tr>\n",
       "      <th>1</th>\n",
       "      <td>@FLChambers 'It appears our #Govt. has exhaust...</td>\n",
       "      <td>NaN</td>\n",
       "    </tr>\n",
       "    <tr>\n",
       "      <th>2</th>\n",
       "      <td>A look at state actions a year after Ferguson'...</td>\n",
       "      <td>NaN</td>\n",
       "    </tr>\n",
       "    <tr>\n",
       "      <th>3</th>\n",
       "      <td>+ Make a mental note of arrival and exit times...</td>\n",
       "      <td>NaN</td>\n",
       "    </tr>\n",
       "    <tr>\n",
       "      <th>4</th>\n",
       "      <td>#Boulder deputies are waiting for the bomb squ...</td>\n",
       "      <td>NaN</td>\n",
       "    </tr>\n",
       "  </tbody>\n",
       "</table>\n",
       "</div>"
      ],
      "text/plain": [
       "  #YIAYplan Use my awesome collection of Amiibos to destroy all in my path.  \\\n",
       "0  @LightUmUpBeast never watched pres think hes o...                          \n",
       "1  @FLChambers 'It appears our #Govt. has exhaust...                          \n",
       "2  A look at state actions a year after Ferguson'...                          \n",
       "3  + Make a mental note of arrival and exit times...                          \n",
       "4  #Boulder deputies are waiting for the bomb squ...                          \n",
       "\n",
       "   Unnamed: 1  \n",
       "0         NaN  \n",
       "1         NaN  \n",
       "2         NaN  \n",
       "3         NaN  \n",
       "4         NaN  "
      ]
     },
     "execution_count": 63,
     "metadata": {},
     "output_type": "execute_result"
    }
   ],
   "source": [
    "gpt = pd.read_csv(\"database/gpt2.csv\")\n",
    "gpt.head()"
   ]
  },
  {
   "cell_type": "code",
   "execution_count": 64,
   "metadata": {},
   "outputs": [
    {
     "data": {
      "text/plain": [
       "#YIAYplan Use my awesome collection of Amiibos to destroy all in my path.       3\n",
       "Unnamed: 1                                                                   1159\n",
       "dtype: int64"
      ]
     },
     "execution_count": 64,
     "metadata": {},
     "output_type": "execute_result"
    }
   ],
   "source": [
    "gpt.isna().sum()"
   ]
  },
  {
   "cell_type": "code",
   "execution_count": 65,
   "metadata": {},
   "outputs": [],
   "source": [
    "gpt = gpt.dropna(subset=['#YIAYplan Use my awesome collection of Amiibos to destroy all in my path.'])"
   ]
  },
  {
   "cell_type": "code",
   "execution_count": 66,
   "metadata": {},
   "outputs": [
    {
     "data": {
      "text/plain": [
       "47"
      ]
     },
     "execution_count": 66,
     "metadata": {},
     "output_type": "execute_result"
    }
   ],
   "source": [
    "gpt.duplicated().sum()"
   ]
  },
  {
   "cell_type": "code",
   "execution_count": 67,
   "metadata": {},
   "outputs": [],
   "source": [
    "gpt = gpt.drop_duplicates()"
   ]
  },
  {
   "cell_type": "code",
   "execution_count": 68,
   "metadata": {},
   "outputs": [
    {
     "data": {
      "text/html": [
       "<div>\n",
       "<style scoped>\n",
       "    .dataframe tbody tr th:only-of-type {\n",
       "        vertical-align: middle;\n",
       "    }\n",
       "\n",
       "    .dataframe tbody tr th {\n",
       "        vertical-align: top;\n",
       "    }\n",
       "\n",
       "    .dataframe thead th {\n",
       "        text-align: right;\n",
       "    }\n",
       "</style>\n",
       "<table border=\"1\" class=\"dataframe\">\n",
       "  <thead>\n",
       "    <tr style=\"text-align: right;\">\n",
       "      <th></th>\n",
       "      <th>text</th>\n",
       "      <th>origin</th>\n",
       "      <th>model</th>\n",
       "    </tr>\n",
       "  </thead>\n",
       "  <tbody>\n",
       "    <tr>\n",
       "      <th>0</th>\n",
       "      <td>@LightUmUpBeast never watched pres think hes o...</td>\n",
       "      <td>AI</td>\n",
       "      <td>chat gpt</td>\n",
       "    </tr>\n",
       "    <tr>\n",
       "      <th>1</th>\n",
       "      <td>@FLChambers 'It appears our #Govt. has exhaust...</td>\n",
       "      <td>AI</td>\n",
       "      <td>chat gpt</td>\n",
       "    </tr>\n",
       "    <tr>\n",
       "      <th>2</th>\n",
       "      <td>A look at state actions a year after Ferguson'...</td>\n",
       "      <td>AI</td>\n",
       "      <td>chat gpt</td>\n",
       "    </tr>\n",
       "    <tr>\n",
       "      <th>3</th>\n",
       "      <td>+ Make a mental note of arrival and exit times...</td>\n",
       "      <td>AI</td>\n",
       "      <td>chat gpt</td>\n",
       "    </tr>\n",
       "    <tr>\n",
       "      <th>4</th>\n",
       "      <td>#Boulder deputies are waiting for the bomb squ...</td>\n",
       "      <td>AI</td>\n",
       "      <td>chat gpt</td>\n",
       "    </tr>\n",
       "  </tbody>\n",
       "</table>\n",
       "</div>"
      ],
      "text/plain": [
       "                                                text origin     model\n",
       "0  @LightUmUpBeast never watched pres think hes o...     AI  chat gpt\n",
       "1  @FLChambers 'It appears our #Govt. has exhaust...     AI  chat gpt\n",
       "2  A look at state actions a year after Ferguson'...     AI  chat gpt\n",
       "3  + Make a mental note of arrival and exit times...     AI  chat gpt\n",
       "4  #Boulder deputies are waiting for the bomb squ...     AI  chat gpt"
      ]
     },
     "execution_count": 68,
     "metadata": {},
     "output_type": "execute_result"
    }
   ],
   "source": [
    "gpt['origin'] = 'AI'\n",
    "gpt['model'] = 'chat gpt'\n",
    "gpt = gpt.rename(columns = {'#YIAYplan Use my awesome collection of Amiibos to destroy all in my path.':'text'})\n",
    "gpt = gpt.drop(columns = ['Unnamed: 1'])\n",
    "gpt.head()"
   ]
  },
  {
   "cell_type": "code",
   "execution_count": 69,
   "metadata": {},
   "outputs": [
    {
     "name": "stdout",
     "output_type": "stream",
     "text": [
      "<class 'pandas.core.frame.DataFrame'>\n",
      "Index: 304918 entries, 0 to 1158\n",
      "Data columns (total 3 columns):\n",
      " #   Column  Non-Null Count   Dtype \n",
      "---  ------  --------------   ----- \n",
      " 0   text    304918 non-null  object\n",
      " 1   origin  304918 non-null  object\n",
      " 2   model   4918 non-null    object\n",
      "dtypes: object(3)\n",
      "memory usage: 9.3+ MB\n"
     ]
    }
   ],
   "source": [
    "df = pd.concat([df, gpt], axis=0)\n",
    "df.info()"
   ]
  },
  {
   "cell_type": "code",
   "execution_count": 70,
   "metadata": {},
   "outputs": [
    {
     "data": {
      "text/plain": [
       "origin\n",
       "human    300000\n",
       "AI         4918\n",
       "Name: count, dtype: int64"
      ]
     },
     "execution_count": 70,
     "metadata": {},
     "output_type": "execute_result"
    }
   ],
   "source": [
    "df['origin'].value_counts()"
   ]
  },
  {
   "cell_type": "code",
   "execution_count": 71,
   "metadata": {},
   "outputs": [
    {
     "data": {
      "text/html": [
       "<div>\n",
       "<style scoped>\n",
       "    .dataframe tbody tr th:only-of-type {\n",
       "        vertical-align: middle;\n",
       "    }\n",
       "\n",
       "    .dataframe tbody tr th {\n",
       "        vertical-align: top;\n",
       "    }\n",
       "\n",
       "    .dataframe thead th {\n",
       "        text-align: right;\n",
       "    }\n",
       "</style>\n",
       "<table border=\"1\" class=\"dataframe\">\n",
       "  <thead>\n",
       "    <tr style=\"text-align: right;\">\n",
       "      <th></th>\n",
       "      <th>Unnamed: 0</th>\n",
       "      <th>Text</th>\n",
       "      <th>Synthetic</th>\n",
       "    </tr>\n",
       "  </thead>\n",
       "  <tbody>\n",
       "    <tr>\n",
       "      <th>0</th>\n",
       "      <td>0</td>\n",
       "      <td>Innovative Science and Technology: How Innovat...</td>\n",
       "      <td>1</td>\n",
       "    </tr>\n",
       "    <tr>\n",
       "      <th>1</th>\n",
       "      <td>1</td>\n",
       "      <td>The #science is undeniable. You will feel bett...</td>\n",
       "      <td>1</td>\n",
       "    </tr>\n",
       "    <tr>\n",
       "      <th>2</th>\n",
       "      <td>2</td>\n",
       "      <td>You won't find a better way to learn about the...</td>\n",
       "      <td>1</td>\n",
       "    </tr>\n",
       "    <tr>\n",
       "      <th>3</th>\n",
       "      <td>3</td>\n",
       "      <td>World of #Science is an ongoing and growing co...</td>\n",
       "      <td>1</td>\n",
       "    </tr>\n",
       "    <tr>\n",
       "      <th>4</th>\n",
       "      <td>4</td>\n",
       "      <td>Django Unchained #22\\n#universe #science #fant...</td>\n",
       "      <td>1</td>\n",
       "    </tr>\n",
       "    <tr>\n",
       "      <th>...</th>\n",
       "      <td>...</td>\n",
       "      <td>...</td>\n",
       "      <td>...</td>\n",
       "    </tr>\n",
       "    <tr>\n",
       "      <th>19995</th>\n",
       "      <td>19995</td>\n",
       "      <td>When it comes to your #engineering career, hav...</td>\n",
       "      <td>1</td>\n",
       "    </tr>\n",
       "    <tr>\n",
       "      <th>19996</th>\n",
       "      <td>19996</td>\n",
       "      <td>After a long journey, we are finally here. The...</td>\n",
       "      <td>1</td>\n",
       "    </tr>\n",
       "    <tr>\n",
       "      <th>19997</th>\n",
       "      <td>19997</td>\n",
       "      <td>The #science of #weaning is the key to a healt...</td>\n",
       "      <td>1</td>\n",
       "    </tr>\n",
       "    <tr>\n",
       "      <th>19998</th>\n",
       "      <td>19998</td>\n",
       "      <td>I was starting to try and make a list of my fa...</td>\n",
       "      <td>1</td>\n",
       "    </tr>\n",
       "    <tr>\n",
       "      <th>19999</th>\n",
       "      <td>19999</td>\n",
       "      <td>LISTEN HERE: \"The Road to Freedom\" by @SharonC...</td>\n",
       "      <td>1</td>\n",
       "    </tr>\n",
       "  </tbody>\n",
       "</table>\n",
       "<p>160500 rows × 3 columns</p>\n",
       "</div>"
      ],
      "text/plain": [
       "       Unnamed: 0                                               Text  \\\n",
       "0               0  Innovative Science and Technology: How Innovat...   \n",
       "1               1  The #science is undeniable. You will feel bett...   \n",
       "2               2  You won't find a better way to learn about the...   \n",
       "3               3  World of #Science is an ongoing and growing co...   \n",
       "4               4  Django Unchained #22\\n#universe #science #fant...   \n",
       "...           ...                                                ...   \n",
       "19995       19995  When it comes to your #engineering career, hav...   \n",
       "19996       19996  After a long journey, we are finally here. The...   \n",
       "19997       19997  The #science of #weaning is the key to a healt...   \n",
       "19998       19998  I was starting to try and make a list of my fa...   \n",
       "19999       19999  LISTEN HERE: \"The Road to Freedom\" by @SharonC...   \n",
       "\n",
       "       Synthetic  \n",
       "0              1  \n",
       "1              1  \n",
       "2              1  \n",
       "3              1  \n",
       "4              1  \n",
       "...          ...  \n",
       "19995          1  \n",
       "19996          1  \n",
       "19997          1  \n",
       "19998          1  \n",
       "19999          1  \n",
       "\n",
       "[160500 rows x 3 columns]"
      ]
     },
     "execution_count": 71,
     "metadata": {},
     "output_type": "execute_result"
    }
   ],
   "source": [
    "db = [\n",
    "    \"climate_gpt3_10k.csv\", \"climate_gpt3_15k.csv\", \"covid_gpt3_10k.csv\", \"covid_gpt3_15k.csv\",\n",
    "    \"politics_gpt3_10k.csv\", \"politics_gpt3_15k.csv\", \"science_gpt3_10k.csv\",\n",
    "]\n",
    "\n",
    "# Carrega o primeiro dataset para inicializar `data`\n",
    "data = pd.read_csv(\"database/science_gpt3_15k.csv\")\n",
    "\n",
    "# Itera sobre os demais arquivos (evita duplicar o já carregado)\n",
    "for i in db:\n",
    "    if i != \"science_gpt3_15k.csv\":\n",
    "        gpt = pd.read_csv(f\"database/{i}\")\n",
    "        data = pd.concat([data, gpt], axis=0)\n",
    "\n",
    "data"
   ]
  },
  {
   "cell_type": "code",
   "execution_count": 72,
   "metadata": {},
   "outputs": [
    {
     "data": {
      "text/html": [
       "<div>\n",
       "<style scoped>\n",
       "    .dataframe tbody tr th:only-of-type {\n",
       "        vertical-align: middle;\n",
       "    }\n",
       "\n",
       "    .dataframe tbody tr th {\n",
       "        vertical-align: top;\n",
       "    }\n",
       "\n",
       "    .dataframe thead th {\n",
       "        text-align: right;\n",
       "    }\n",
       "</style>\n",
       "<table border=\"1\" class=\"dataframe\">\n",
       "  <thead>\n",
       "    <tr style=\"text-align: right;\">\n",
       "      <th></th>\n",
       "      <th>text</th>\n",
       "      <th>origin</th>\n",
       "      <th>model</th>\n",
       "    </tr>\n",
       "  </thead>\n",
       "  <tbody>\n",
       "    <tr>\n",
       "      <th>0</th>\n",
       "      <td>Innovative Science and Technology: How Innovat...</td>\n",
       "      <td>AI</td>\n",
       "      <td>chat gpt</td>\n",
       "    </tr>\n",
       "    <tr>\n",
       "      <th>1</th>\n",
       "      <td>The #science is undeniable. You will feel bett...</td>\n",
       "      <td>AI</td>\n",
       "      <td>chat gpt</td>\n",
       "    </tr>\n",
       "    <tr>\n",
       "      <th>2</th>\n",
       "      <td>You won't find a better way to learn about the...</td>\n",
       "      <td>AI</td>\n",
       "      <td>chat gpt</td>\n",
       "    </tr>\n",
       "    <tr>\n",
       "      <th>3</th>\n",
       "      <td>World of #Science is an ongoing and growing co...</td>\n",
       "      <td>AI</td>\n",
       "      <td>chat gpt</td>\n",
       "    </tr>\n",
       "    <tr>\n",
       "      <th>4</th>\n",
       "      <td>Django Unchained #22\\n#universe #science #fant...</td>\n",
       "      <td>AI</td>\n",
       "      <td>chat gpt</td>\n",
       "    </tr>\n",
       "  </tbody>\n",
       "</table>\n",
       "</div>"
      ],
      "text/plain": [
       "                                                text origin     model\n",
       "0  Innovative Science and Technology: How Innovat...     AI  chat gpt\n",
       "1  The #science is undeniable. You will feel bett...     AI  chat gpt\n",
       "2  You won't find a better way to learn about the...     AI  chat gpt\n",
       "3  World of #Science is an ongoing and growing co...     AI  chat gpt\n",
       "4  Django Unchained #22\\n#universe #science #fant...     AI  chat gpt"
      ]
     },
     "execution_count": 72,
     "metadata": {},
     "output_type": "execute_result"
    }
   ],
   "source": [
    "data['origin'] = 'AI'\n",
    "data['model'] = 'chat gpt'\n",
    "data = data.rename(columns = {'Text':'text'})\n",
    "data = data.drop(columns = ['Unnamed: 0', 'Synthetic'])\n",
    "data.head()"
   ]
  },
  {
   "cell_type": "code",
   "execution_count": 73,
   "metadata": {},
   "outputs": [
    {
     "data": {
      "text/plain": [
       "25"
      ]
     },
     "execution_count": 73,
     "metadata": {},
     "output_type": "execute_result"
    }
   ],
   "source": [
    "data.duplicated().sum()"
   ]
  },
  {
   "cell_type": "code",
   "execution_count": 74,
   "metadata": {},
   "outputs": [],
   "source": [
    "data = data.drop_duplicates()"
   ]
  },
  {
   "cell_type": "code",
   "execution_count": 75,
   "metadata": {},
   "outputs": [
    {
     "data": {
      "text/plain": [
       "text      0\n",
       "origin    0\n",
       "model     0\n",
       "dtype: int64"
      ]
     },
     "execution_count": 75,
     "metadata": {},
     "output_type": "execute_result"
    }
   ],
   "source": [
    "data.isna().sum()"
   ]
  },
  {
   "cell_type": "code",
   "execution_count": 76,
   "metadata": {},
   "outputs": [
    {
     "name": "stdout",
     "output_type": "stream",
     "text": [
      "<class 'pandas.core.frame.DataFrame'>\n",
      "Index: 465393 entries, 0 to 19999\n",
      "Data columns (total 3 columns):\n",
      " #   Column  Non-Null Count   Dtype \n",
      "---  ------  --------------   ----- \n",
      " 0   text    465393 non-null  object\n",
      " 1   origin  465393 non-null  object\n",
      " 2   model   165393 non-null  object\n",
      "dtypes: object(3)\n",
      "memory usage: 14.2+ MB\n"
     ]
    }
   ],
   "source": [
    "df = pd.concat([df, data], axis=0)\n",
    "df.info()"
   ]
  },
  {
   "cell_type": "code",
   "execution_count": 77,
   "metadata": {},
   "outputs": [
    {
     "data": {
      "text/plain": [
       "origin\n",
       "human    300000\n",
       "AI       165393\n",
       "Name: count, dtype: int64"
      ]
     },
     "execution_count": 77,
     "metadata": {},
     "output_type": "execute_result"
    }
   ],
   "source": [
    "df['origin'].value_counts()"
   ]
  },
  {
   "cell_type": "code",
   "execution_count": 78,
   "metadata": {},
   "outputs": [],
   "source": [
    "#deixando com 300.000 dados de twitter human\n",
    "df_gpt = df[df[\"origin\"] == \"AI\"]\n",
    "df_amostra = df_gpt.sample(n=65393, random_state=42) "
   ]
  },
  {
   "cell_type": "code",
   "execution_count": 79,
   "metadata": {},
   "outputs": [
    {
     "data": {
      "text/html": [
       "<div>\n",
       "<style scoped>\n",
       "    .dataframe tbody tr th:only-of-type {\n",
       "        vertical-align: middle;\n",
       "    }\n",
       "\n",
       "    .dataframe tbody tr th {\n",
       "        vertical-align: top;\n",
       "    }\n",
       "\n",
       "    .dataframe thead th {\n",
       "        text-align: right;\n",
       "    }\n",
       "</style>\n",
       "<table border=\"1\" class=\"dataframe\">\n",
       "  <thead>\n",
       "    <tr style=\"text-align: right;\">\n",
       "      <th></th>\n",
       "      <th>text</th>\n",
       "      <th>origin</th>\n",
       "      <th>model</th>\n",
       "    </tr>\n",
       "  </thead>\n",
       "  <tbody>\n",
       "    <tr>\n",
       "      <th>9358</th>\n",
       "      <td>The EU's climate change bill is here, and it c...</td>\n",
       "      <td>AI</td>\n",
       "      <td>chat gpt</td>\n",
       "    </tr>\n",
       "    <tr>\n",
       "      <th>11841</th>\n",
       "      <td>The International Agency for Research on Cance...</td>\n",
       "      <td>AI</td>\n",
       "      <td>chat gpt</td>\n",
       "    </tr>\n",
       "    <tr>\n",
       "      <th>7922</th>\n",
       "      <td>The #Trump campaign is filing a lawsuit in Wis...</td>\n",
       "      <td>AI</td>\n",
       "      <td>chat gpt</td>\n",
       "    </tr>\n",
       "    <tr>\n",
       "      <th>14156</th>\n",
       "      <td>The Australian government is playing with fire...</td>\n",
       "      <td>AI</td>\n",
       "      <td>chat gpt</td>\n",
       "    </tr>\n",
       "    <tr>\n",
       "      <th>16625</th>\n",
       "      <td>The former #scientist and #entrepreneurial wom...</td>\n",
       "      <td>AI</td>\n",
       "      <td>chat gpt</td>\n",
       "    </tr>\n",
       "    <tr>\n",
       "      <th>...</th>\n",
       "      <td>...</td>\n",
       "      <td>...</td>\n",
       "      <td>...</td>\n",
       "    </tr>\n",
       "    <tr>\n",
       "      <th>11304</th>\n",
       "      <td>The #USElection2020 is not over yet.\\n\\n#Biden...</td>\n",
       "      <td>AI</td>\n",
       "      <td>chat gpt</td>\n",
       "    </tr>\n",
       "    <tr>\n",
       "      <th>13376</th>\n",
       "      <td>In a recent article, @iis_cma’s #Engineering p...</td>\n",
       "      <td>AI</td>\n",
       "      <td>chat gpt</td>\n",
       "    </tr>\n",
       "    <tr>\n",
       "      <th>14900</th>\n",
       "      <td>Sudan’s Omar al-Bashir was not the only U.S.-b...</td>\n",
       "      <td>AI</td>\n",
       "      <td>chat gpt</td>\n",
       "    </tr>\n",
       "    <tr>\n",
       "      <th>4102</th>\n",
       "      <td>In an interview with @LATEST, @KathrynSantoro ...</td>\n",
       "      <td>AI</td>\n",
       "      <td>chat gpt</td>\n",
       "    </tr>\n",
       "    <tr>\n",
       "      <th>968</th>\n",
       "      <td>Just 8 minute b4 tragedy another train had cro...</td>\n",
       "      <td>AI</td>\n",
       "      <td>chat gpt</td>\n",
       "    </tr>\n",
       "  </tbody>\n",
       "</table>\n",
       "<p>65393 rows × 3 columns</p>\n",
       "</div>"
      ],
      "text/plain": [
       "                                                    text origin     model\n",
       "9358   The EU's climate change bill is here, and it c...     AI  chat gpt\n",
       "11841  The International Agency for Research on Cance...     AI  chat gpt\n",
       "7922   The #Trump campaign is filing a lawsuit in Wis...     AI  chat gpt\n",
       "14156  The Australian government is playing with fire...     AI  chat gpt\n",
       "16625  The former #scientist and #entrepreneurial wom...     AI  chat gpt\n",
       "...                                                  ...    ...       ...\n",
       "11304  The #USElection2020 is not over yet.\\n\\n#Biden...     AI  chat gpt\n",
       "13376  In a recent article, @iis_cma’s #Engineering p...     AI  chat gpt\n",
       "14900  Sudan’s Omar al-Bashir was not the only U.S.-b...     AI  chat gpt\n",
       "4102   In an interview with @LATEST, @KathrynSantoro ...     AI  chat gpt\n",
       "968    Just 8 minute b4 tragedy another train had cro...     AI  chat gpt\n",
       "\n",
       "[65393 rows x 3 columns]"
      ]
     },
     "execution_count": 79,
     "metadata": {},
     "output_type": "execute_result"
    }
   ],
   "source": [
    "df_amostra"
   ]
  },
  {
   "cell_type": "code",
   "execution_count": 80,
   "metadata": {},
   "outputs": [
    {
     "data": {
      "text/html": [
       "<div>\n",
       "<style scoped>\n",
       "    .dataframe tbody tr th:only-of-type {\n",
       "        vertical-align: middle;\n",
       "    }\n",
       "\n",
       "    .dataframe tbody tr th {\n",
       "        vertical-align: top;\n",
       "    }\n",
       "\n",
       "    .dataframe thead th {\n",
       "        text-align: right;\n",
       "    }\n",
       "</style>\n",
       "<table border=\"1\" class=\"dataframe\">\n",
       "  <thead>\n",
       "    <tr style=\"text-align: right;\">\n",
       "      <th></th>\n",
       "      <th>text</th>\n",
       "      <th>origin</th>\n",
       "      <th>model</th>\n",
       "    </tr>\n",
       "  </thead>\n",
       "  <tbody>\n",
       "    <tr>\n",
       "      <th>0</th>\n",
       "      <td>when modi promised “minimum government maximum...</td>\n",
       "      <td>human</td>\n",
       "      <td>NaN</td>\n",
       "    </tr>\n",
       "    <tr>\n",
       "      <th>1</th>\n",
       "      <td>talk all the nonsense and continue all the dra...</td>\n",
       "      <td>human</td>\n",
       "      <td>NaN</td>\n",
       "    </tr>\n",
       "    <tr>\n",
       "      <th>2</th>\n",
       "      <td>asking his supporters prefix chowkidar their n...</td>\n",
       "      <td>human</td>\n",
       "      <td>NaN</td>\n",
       "    </tr>\n",
       "    <tr>\n",
       "      <th>3</th>\n",
       "      <td>answer who among these the most powerful world...</td>\n",
       "      <td>human</td>\n",
       "      <td>NaN</td>\n",
       "    </tr>\n",
       "    <tr>\n",
       "      <th>4</th>\n",
       "      <td>kiya tho refresh maarkefir comment karo</td>\n",
       "      <td>human</td>\n",
       "      <td>NaN</td>\n",
       "    </tr>\n",
       "    <tr>\n",
       "      <th>...</th>\n",
       "      <td>...</td>\n",
       "      <td>...</td>\n",
       "      <td>...</td>\n",
       "    </tr>\n",
       "    <tr>\n",
       "      <th>465387</th>\n",
       "      <td>Two decades ago today, the first #STEM field s...</td>\n",
       "      <td>AI</td>\n",
       "      <td>chat gpt</td>\n",
       "    </tr>\n",
       "    <tr>\n",
       "      <th>465388</th>\n",
       "      <td>When it comes to your #engineering career, hav...</td>\n",
       "      <td>AI</td>\n",
       "      <td>chat gpt</td>\n",
       "    </tr>\n",
       "    <tr>\n",
       "      <th>465390</th>\n",
       "      <td>The #science of #weaning is the key to a healt...</td>\n",
       "      <td>AI</td>\n",
       "      <td>chat gpt</td>\n",
       "    </tr>\n",
       "    <tr>\n",
       "      <th>465391</th>\n",
       "      <td>I was starting to try and make a list of my fa...</td>\n",
       "      <td>AI</td>\n",
       "      <td>chat gpt</td>\n",
       "    </tr>\n",
       "    <tr>\n",
       "      <th>465392</th>\n",
       "      <td>LISTEN HERE: \"The Road to Freedom\" by @SharonC...</td>\n",
       "      <td>AI</td>\n",
       "      <td>chat gpt</td>\n",
       "    </tr>\n",
       "  </tbody>\n",
       "</table>\n",
       "<p>400000 rows × 3 columns</p>\n",
       "</div>"
      ],
      "text/plain": [
       "                                                     text origin     model\n",
       "0       when modi promised “minimum government maximum...  human       NaN\n",
       "1       talk all the nonsense and continue all the dra...  human       NaN\n",
       "2       asking his supporters prefix chowkidar their n...  human       NaN\n",
       "3       answer who among these the most powerful world...  human       NaN\n",
       "4                kiya tho refresh maarkefir comment karo   human       NaN\n",
       "...                                                   ...    ...       ...\n",
       "465387  Two decades ago today, the first #STEM field s...     AI  chat gpt\n",
       "465388  When it comes to your #engineering career, hav...     AI  chat gpt\n",
       "465390  The #science of #weaning is the key to a healt...     AI  chat gpt\n",
       "465391  I was starting to try and make a list of my fa...     AI  chat gpt\n",
       "465392  LISTEN HERE: \"The Road to Freedom\" by @SharonC...     AI  chat gpt\n",
       "\n",
       "[400000 rows x 3 columns]"
      ]
     },
     "execution_count": 80,
     "metadata": {},
     "output_type": "execute_result"
    }
   ],
   "source": [
    "# Remove as linhas do df que são comuns entre df e df_amostra\n",
    "df = df.merge(df_amostra, how='left', indicator=True).query('_merge == \"left_only\"').drop(columns=['_merge'])\n",
    "df"
   ]
  },
  {
   "cell_type": "code",
   "execution_count": 81,
   "metadata": {},
   "outputs": [
    {
     "data": {
      "text/plain": [
       "origin\n",
       "human    300000\n",
       "AI       100000\n",
       "Name: count, dtype: int64"
      ]
     },
     "execution_count": 81,
     "metadata": {},
     "output_type": "execute_result"
    }
   ],
   "source": [
    "df['origin'].value_counts()"
   ]
  },
  {
   "cell_type": "code",
   "execution_count": 82,
   "metadata": {},
   "outputs": [],
   "source": [
    "df.to_csv('database/concat_df.csv', index=False)"
   ]
  }
 ],
 "metadata": {
  "kernelspec": {
   "display_name": "base",
   "language": "python",
   "name": "python3"
  },
  "language_info": {
   "codemirror_mode": {
    "name": "ipython",
    "version": 3
   },
   "file_extension": ".py",
   "mimetype": "text/x-python",
   "name": "python",
   "nbconvert_exporter": "python",
   "pygments_lexer": "ipython3",
   "version": "3.12.7"
  }
 },
 "nbformat": 4,
 "nbformat_minor": 2
}
