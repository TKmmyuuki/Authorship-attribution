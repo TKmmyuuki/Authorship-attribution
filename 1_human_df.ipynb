{
 "cells": [
  {
   "cell_type": "code",
   "execution_count": 36,
   "id": "dfb9856b",
   "metadata": {},
   "outputs": [],
   "source": [
    "import pandas as pd"
   ]
  },
  {
   "cell_type": "code",
   "execution_count": 37,
   "id": "521a30db",
   "metadata": {},
   "outputs": [
    {
     "data": {
      "text/html": [
       "<div>\n",
       "<style scoped>\n",
       "    .dataframe tbody tr th:only-of-type {\n",
       "        vertical-align: middle;\n",
       "    }\n",
       "\n",
       "    .dataframe tbody tr th {\n",
       "        vertical-align: top;\n",
       "    }\n",
       "\n",
       "    .dataframe thead th {\n",
       "        text-align: right;\n",
       "    }\n",
       "</style>\n",
       "<table border=\"1\" class=\"dataframe\">\n",
       "  <thead>\n",
       "    <tr style=\"text-align: right;\">\n",
       "      <th></th>\n",
       "      <th>tweet_id</th>\n",
       "      <th>phrase</th>\n",
       "      <th>start</th>\n",
       "      <th>end</th>\n",
       "      <th>entityId</th>\n",
       "      <th>score</th>\n",
       "      <th>full_text</th>\n",
       "      <th>part</th>\n",
       "    </tr>\n",
       "  </thead>\n",
       "  <tbody>\n",
       "    <tr>\n",
       "      <th>0</th>\n",
       "      <td>1232470869324136448</td>\n",
       "      <td>[NO_PHRASE]</td>\n",
       "      <td>[-1]</td>\n",
       "      <td>[-1]</td>\n",
       "      <td>[NO_ENTITY]</td>\n",
       "      <td>[-1]</td>\n",
       "      <td>I've been humming this song by @otherlives for...</td>\n",
       "      <td>train</td>\n",
       "    </tr>\n",
       "    <tr>\n",
       "      <th>1</th>\n",
       "      <td>1232471220701908992</td>\n",
       "      <td>[NO_PHRASE]</td>\n",
       "      <td>[-1]</td>\n",
       "      <td>[-1]</td>\n",
       "      <td>[NO_ENTITY]</td>\n",
       "      <td>[-1]</td>\n",
       "      <td>@jemillerwbal Annnnd the pile grows deeper ! W...</td>\n",
       "      <td>train</td>\n",
       "    </tr>\n",
       "    <tr>\n",
       "      <th>2</th>\n",
       "      <td>1232486401507119104</td>\n",
       "      <td>[NO_PHRASE]</td>\n",
       "      <td>[-1]</td>\n",
       "      <td>[-1]</td>\n",
       "      <td>[NO_ENTITY]</td>\n",
       "      <td>[-1]</td>\n",
       "      <td>You ever been so heartbroken it makes you sick...</td>\n",
       "      <td>train</td>\n",
       "    </tr>\n",
       "    <tr>\n",
       "      <th>3</th>\n",
       "      <td>1232491348340555776</td>\n",
       "      <td>[NO_PHRASE]</td>\n",
       "      <td>[-1]</td>\n",
       "      <td>[-1]</td>\n",
       "      <td>[NO_ENTITY]</td>\n",
       "      <td>[-1]</td>\n",
       "      <td>9pm, my mom is texting me memes, my dad is tex...</td>\n",
       "      <td>train</td>\n",
       "    </tr>\n",
       "    <tr>\n",
       "      <th>4</th>\n",
       "      <td>1232495939027271680</td>\n",
       "      <td>[NO_PHRASE]</td>\n",
       "      <td>[-1]</td>\n",
       "      <td>[-1]</td>\n",
       "      <td>[NO_ENTITY]</td>\n",
       "      <td>[-1]</td>\n",
       "      <td>The Lenten season is upon us...see ya’ll in 40...</td>\n",
       "      <td>train</td>\n",
       "    </tr>\n",
       "  </tbody>\n",
       "</table>\n",
       "</div>"
      ],
      "text/plain": [
       "              tweet_id       phrase start   end     entityId score  \\\n",
       "0  1232470869324136448  [NO_PHRASE]  [-1]  [-1]  [NO_ENTITY]  [-1]   \n",
       "1  1232471220701908992  [NO_PHRASE]  [-1]  [-1]  [NO_ENTITY]  [-1]   \n",
       "2  1232486401507119104  [NO_PHRASE]  [-1]  [-1]  [NO_ENTITY]  [-1]   \n",
       "3  1232491348340555776  [NO_PHRASE]  [-1]  [-1]  [NO_ENTITY]  [-1]   \n",
       "4  1232495939027271680  [NO_PHRASE]  [-1]  [-1]  [NO_ENTITY]  [-1]   \n",
       "\n",
       "                                           full_text   part  \n",
       "0  I've been humming this song by @otherlives for...  train  \n",
       "1  @jemillerwbal Annnnd the pile grows deeper ! W...  train  \n",
       "2  You ever been so heartbroken it makes you sick...  train  \n",
       "3  9pm, my mom is texting me memes, my dad is tex...  train  \n",
       "4  The Lenten season is upon us...see ya’ll in 40...  train  "
      ]
     },
     "execution_count": 37,
     "metadata": {},
     "output_type": "execute_result"
    }
   ],
   "source": [
    "dataset = pd.read_json('database/tweetNERD.json', lines=True) #https://huggingface.co/datasets/socialmediaie/TweetNERD\n",
    "dataset.head()"
   ]
  },
  {
   "cell_type": "code",
   "execution_count": 38,
   "id": "58f60b2a",
   "metadata": {},
   "outputs": [
    {
     "data": {
      "text/html": [
       "<div>\n",
       "<style scoped>\n",
       "    .dataframe tbody tr th:only-of-type {\n",
       "        vertical-align: middle;\n",
       "    }\n",
       "\n",
       "    .dataframe tbody tr th {\n",
       "        vertical-align: top;\n",
       "    }\n",
       "\n",
       "    .dataframe thead th {\n",
       "        text-align: right;\n",
       "    }\n",
       "</style>\n",
       "<table border=\"1\" class=\"dataframe\">\n",
       "  <thead>\n",
       "    <tr style=\"text-align: right;\">\n",
       "      <th></th>\n",
       "      <th>text</th>\n",
       "      <th>origin</th>\n",
       "      <th>model</th>\n",
       "    </tr>\n",
       "  </thead>\n",
       "  <tbody>\n",
       "    <tr>\n",
       "      <th>0</th>\n",
       "      <td>I've been humming this song by @otherlives for...</td>\n",
       "      <td>human</td>\n",
       "      <td>None</td>\n",
       "    </tr>\n",
       "    <tr>\n",
       "      <th>1</th>\n",
       "      <td>@jemillerwbal Annnnd the pile grows deeper ! W...</td>\n",
       "      <td>human</td>\n",
       "      <td>None</td>\n",
       "    </tr>\n",
       "    <tr>\n",
       "      <th>2</th>\n",
       "      <td>You ever been so heartbroken it makes you sick...</td>\n",
       "      <td>human</td>\n",
       "      <td>None</td>\n",
       "    </tr>\n",
       "    <tr>\n",
       "      <th>3</th>\n",
       "      <td>9pm, my mom is texting me memes, my dad is tex...</td>\n",
       "      <td>human</td>\n",
       "      <td>None</td>\n",
       "    </tr>\n",
       "    <tr>\n",
       "      <th>4</th>\n",
       "      <td>The Lenten season is upon us...see ya’ll in 40...</td>\n",
       "      <td>human</td>\n",
       "      <td>None</td>\n",
       "    </tr>\n",
       "  </tbody>\n",
       "</table>\n",
       "</div>"
      ],
      "text/plain": [
       "                                                text origin model\n",
       "0  I've been humming this song by @otherlives for...  human  None\n",
       "1  @jemillerwbal Annnnd the pile grows deeper ! W...  human  None\n",
       "2  You ever been so heartbroken it makes you sick...  human  None\n",
       "3  9pm, my mom is texting me memes, my dad is tex...  human  None\n",
       "4  The Lenten season is upon us...see ya’ll in 40...  human  None"
      ]
     },
     "execution_count": 38,
     "metadata": {},
     "output_type": "execute_result"
    }
   ],
   "source": [
    "dataset = dataset.drop(columns = ['tweet_id', 'phrase', 'start', 'end', 'entityId', 'score', 'part'])\n",
    "dataset = dataset.rename(columns = {'full_text':'text'})\n",
    "dataset['origin'] = 'human'\n",
    "dataset['model'] = None\n",
    "dataset.head()"
   ]
  },
  {
   "cell_type": "code",
   "execution_count": 39,
   "id": "4a920225",
   "metadata": {},
   "outputs": [],
   "source": [
    "lista = ['tweet_eval_irony', 'tweet_eval_emotion'] # https://huggingface.co/datasets/cardiffnlp/tweet_eval/blob/main/README.md\n",
    "for i in lista:\n",
    "    x = pd.read_csv(f'database/{i}.csv')\n",
    "    x = x.drop(columns = ['label'])\n",
    "    x['origin'] = 'human'\n",
    "    x['model'] = None\n",
    "    dataset = pd.concat([x, dataset], axis=0)"
   ]
  },
  {
   "cell_type": "code",
   "execution_count": 40,
   "id": "1a2dd929",
   "metadata": {},
   "outputs": [],
   "source": [
    "lista = ['tweet_eval_abortion', 'tweet_eval_offencive','tweet_eval_hate', 'tweet_eval_sentiment', ] # https://huggingface.co/datasets/cardiffnlp/tweet_eval/blob/main/README.md\n",
    "for i in lista:\n",
    "    x = pd.read_parquet(f'database/{i}.parquet')\n",
    "    x = x.drop(columns = ['label'])\n",
    "    x['origin'] = 'human'\n",
    "    x['model'] = None\n",
    "    dataset = pd.concat([x, dataset], axis=0)"
   ]
  },
  {
   "cell_type": "code",
   "execution_count": 41,
   "id": "3e5a7d2c",
   "metadata": {},
   "outputs": [
    {
     "data": {
      "text/html": [
       "<div>\n",
       "<style scoped>\n",
       "    .dataframe tbody tr th:only-of-type {\n",
       "        vertical-align: middle;\n",
       "    }\n",
       "\n",
       "    .dataframe tbody tr th {\n",
       "        vertical-align: top;\n",
       "    }\n",
       "\n",
       "    .dataframe thead th {\n",
       "        text-align: right;\n",
       "    }\n",
       "</style>\n",
       "<table border=\"1\" class=\"dataframe\">\n",
       "  <thead>\n",
       "    <tr style=\"text-align: right;\">\n",
       "      <th></th>\n",
       "      <th>text</th>\n",
       "      <th>origin</th>\n",
       "      <th>model</th>\n",
       "    </tr>\n",
       "  </thead>\n",
       "  <tbody>\n",
       "    <tr>\n",
       "      <th>0</th>\n",
       "      <td>An assessment of #NEAR, #RNDR, and #TAO’s pric...</td>\n",
       "      <td>human</td>\n",
       "      <td>None</td>\n",
       "    </tr>\n",
       "    <tr>\n",
       "      <th>1</th>\n",
       "      <td>Could be...\\n\\n#Bitcoin.</td>\n",
       "      <td>human</td>\n",
       "      <td>None</td>\n",
       "    </tr>\n",
       "    <tr>\n",
       "      <th>2</th>\n",
       "      <td>#love #surfing #ascension #health #music #posi...</td>\n",
       "      <td>human</td>\n",
       "      <td>None</td>\n",
       "    </tr>\n",
       "    <tr>\n",
       "      <th>3</th>\n",
       "      <td>#NationalTechnologyDay #Technology #AI #Scienc...</td>\n",
       "      <td>human</td>\n",
       "      <td>None</td>\n",
       "    </tr>\n",
       "    <tr>\n",
       "      <th>4</th>\n",
       "      <td>The Obesity Treatment Program offered at Isha ...</td>\n",
       "      <td>human</td>\n",
       "      <td>None</td>\n",
       "    </tr>\n",
       "  </tbody>\n",
       "</table>\n",
       "</div>"
      ],
      "text/plain": [
       "                                                text origin model\n",
       "0  An assessment of #NEAR, #RNDR, and #TAO’s pric...  human  None\n",
       "1                           Could be...\\n\\n#Bitcoin.  human  None\n",
       "2  #love #surfing #ascension #health #music #posi...  human  None\n",
       "3  #NationalTechnologyDay #Technology #AI #Scienc...  human  None\n",
       "4  The Obesity Treatment Program offered at Isha ...  human  None"
      ]
     },
     "execution_count": 41,
     "metadata": {},
     "output_type": "execute_result"
    }
   ],
   "source": [
    "data = pd.read_csv('database/twitter_human.csv')\n",
    "data['origin'] = 'human'\n",
    "data['model'] = None\n",
    "data = data.drop(columns = ['label', 'tweet_hashtags', 'datetime'])\n",
    "data.head()"
   ]
  },
  {
   "cell_type": "code",
   "execution_count": 42,
   "id": "a3fe6457",
   "metadata": {},
   "outputs": [
    {
     "name": "stdout",
     "output_type": "stream",
     "text": [
      "<class 'pandas.core.frame.DataFrame'>\n",
      "Index: 293203 entries, 0 to 207277\n",
      "Data columns (total 3 columns):\n",
      " #   Column  Non-Null Count   Dtype \n",
      "---  ------  --------------   ----- \n",
      " 0   text    293201 non-null  object\n",
      " 1   origin  293203 non-null  object\n",
      " 2   model   0 non-null       object\n",
      "dtypes: object(3)\n",
      "memory usage: 8.9+ MB\n"
     ]
    }
   ],
   "source": [
    "dataset = pd.concat([data, dataset], axis=0)\n",
    "dataset.info()"
   ]
  },
  {
   "cell_type": "code",
   "execution_count": 43,
   "id": "3a75e239",
   "metadata": {},
   "outputs": [
    {
     "data": {
      "text/html": [
       "<div>\n",
       "<style scoped>\n",
       "    .dataframe tbody tr th:only-of-type {\n",
       "        vertical-align: middle;\n",
       "    }\n",
       "\n",
       "    .dataframe tbody tr th {\n",
       "        vertical-align: top;\n",
       "    }\n",
       "\n",
       "    .dataframe thead th {\n",
       "        text-align: right;\n",
       "    }\n",
       "</style>\n",
       "<table border=\"1\" class=\"dataframe\">\n",
       "  <thead>\n",
       "    <tr style=\"text-align: right;\">\n",
       "      <th></th>\n",
       "      <th>text</th>\n",
       "      <th>origin</th>\n",
       "      <th>model</th>\n",
       "    </tr>\n",
       "  </thead>\n",
       "  <tbody>\n",
       "    <tr>\n",
       "      <th>0</th>\n",
       "      <td>when modi promised “minimum government maximum...</td>\n",
       "      <td>human</td>\n",
       "      <td>None</td>\n",
       "    </tr>\n",
       "    <tr>\n",
       "      <th>1</th>\n",
       "      <td>talk all the nonsense and continue all the dra...</td>\n",
       "      <td>human</td>\n",
       "      <td>None</td>\n",
       "    </tr>\n",
       "    <tr>\n",
       "      <th>2</th>\n",
       "      <td>what did just say vote for modi  welcome bjp t...</td>\n",
       "      <td>human</td>\n",
       "      <td>None</td>\n",
       "    </tr>\n",
       "    <tr>\n",
       "      <th>3</th>\n",
       "      <td>asking his supporters prefix chowkidar their n...</td>\n",
       "      <td>human</td>\n",
       "      <td>None</td>\n",
       "    </tr>\n",
       "    <tr>\n",
       "      <th>4</th>\n",
       "      <td>answer who among these the most powerful world...</td>\n",
       "      <td>human</td>\n",
       "      <td>None</td>\n",
       "    </tr>\n",
       "  </tbody>\n",
       "</table>\n",
       "</div>"
      ],
      "text/plain": [
       "                                                text origin model\n",
       "0  when modi promised “minimum government maximum...  human  None\n",
       "1  talk all the nonsense and continue all the dra...  human  None\n",
       "2  what did just say vote for modi  welcome bjp t...  human  None\n",
       "3  asking his supporters prefix chowkidar their n...  human  None\n",
       "4  answer who among these the most powerful world...  human  None"
      ]
     },
     "execution_count": 43,
     "metadata": {},
     "output_type": "execute_result"
    }
   ],
   "source": [
    "data = pd.read_csv('database/Twitter_Data.csv') # https://huggingface.co/datasets/Balasuriya/Twitter_Data\n",
    "data = data.rename(columns = {'clean_text':'text'})\n",
    "data['origin'] = 'human'\n",
    "data['model'] = None\n",
    "data = data.drop(columns = ['category'])\n",
    "data.head()"
   ]
  },
  {
   "cell_type": "code",
   "execution_count": 44,
   "id": "351bbb7d",
   "metadata": {},
   "outputs": [
    {
     "name": "stdout",
     "output_type": "stream",
     "text": [
      "<class 'pandas.core.frame.DataFrame'>\n",
      "Index: 456183 entries, 0 to 207277\n",
      "Data columns (total 3 columns):\n",
      " #   Column  Non-Null Count   Dtype \n",
      "---  ------  --------------   ----- \n",
      " 0   text    456177 non-null  object\n",
      " 1   origin  456183 non-null  object\n",
      " 2   model   0 non-null       object\n",
      "dtypes: object(3)\n",
      "memory usage: 13.9+ MB\n"
     ]
    }
   ],
   "source": [
    "dataset = pd.concat([data, dataset], axis=0)\n",
    "dataset.info()"
   ]
  },
  {
   "cell_type": "code",
   "execution_count": 45,
   "id": "6dd37071",
   "metadata": {},
   "outputs": [],
   "source": [
    "dataset.isna().sum()\n",
    "dataset.duplicated().sum()\n",
    "\n",
    "dataset = dataset.dropna(subset=['text'])\n",
    "dataset = dataset.drop_duplicates()"
   ]
  },
  {
   "cell_type": "code",
   "execution_count": 29,
   "id": "4621c903",
   "metadata": {},
   "outputs": [
    {
     "name": "stdout",
     "output_type": "stream",
     "text": [
      "<class 'pandas.core.frame.DataFrame'>\n",
      "Index: 455045 entries, 0 to 207277\n",
      "Data columns (total 3 columns):\n",
      " #   Column  Non-Null Count   Dtype \n",
      "---  ------  --------------   ----- \n",
      " 0   text    455045 non-null  object\n",
      " 1   origin  455045 non-null  object\n",
      " 2   model   0 non-null       object\n",
      "dtypes: object(3)\n",
      "memory usage: 13.9+ MB\n"
     ]
    }
   ],
   "source": [
    "dataset.info()"
   ]
  },
  {
   "cell_type": "code",
   "execution_count": 46,
   "id": "43e3b8c2",
   "metadata": {},
   "outputs": [
    {
     "data": {
      "text/html": [
       "<div>\n",
       "<style scoped>\n",
       "    .dataframe tbody tr th:only-of-type {\n",
       "        vertical-align: middle;\n",
       "    }\n",
       "\n",
       "    .dataframe tbody tr th {\n",
       "        vertical-align: top;\n",
       "    }\n",
       "\n",
       "    .dataframe thead th {\n",
       "        text-align: right;\n",
       "    }\n",
       "</style>\n",
       "<table border=\"1\" class=\"dataframe\">\n",
       "  <thead>\n",
       "    <tr style=\"text-align: right;\">\n",
       "      <th></th>\n",
       "      <th>text</th>\n",
       "      <th>origin</th>\n",
       "      <th>model</th>\n",
       "    </tr>\n",
       "  </thead>\n",
       "  <tbody>\n",
       "    <tr>\n",
       "      <th>0</th>\n",
       "      <td>is upset that he can't update his Facebook by ...</td>\n",
       "      <td>human</td>\n",
       "      <td>None</td>\n",
       "    </tr>\n",
       "    <tr>\n",
       "      <th>1</th>\n",
       "      <td>@Kenichan I dived many times for the ball. Man...</td>\n",
       "      <td>human</td>\n",
       "      <td>None</td>\n",
       "    </tr>\n",
       "    <tr>\n",
       "      <th>2</th>\n",
       "      <td>my whole body feels itchy and like its on fire</td>\n",
       "      <td>human</td>\n",
       "      <td>None</td>\n",
       "    </tr>\n",
       "    <tr>\n",
       "      <th>3</th>\n",
       "      <td>@nationwideclass no, it's not behaving at all....</td>\n",
       "      <td>human</td>\n",
       "      <td>None</td>\n",
       "    </tr>\n",
       "    <tr>\n",
       "      <th>4</th>\n",
       "      <td>@Kwesidei not the whole crew</td>\n",
       "      <td>human</td>\n",
       "      <td>None</td>\n",
       "    </tr>\n",
       "  </tbody>\n",
       "</table>\n",
       "</div>"
      ],
      "text/plain": [
       "                                                text origin model\n",
       "0  is upset that he can't update his Facebook by ...  human  None\n",
       "1  @Kenichan I dived many times for the ball. Man...  human  None\n",
       "2    my whole body feels itchy and like its on fire   human  None\n",
       "3  @nationwideclass no, it's not behaving at all....  human  None\n",
       "4                      @Kwesidei not the whole crew   human  None"
      ]
     },
     "execution_count": 46,
     "metadata": {},
     "output_type": "execute_result"
    }
   ],
   "source": [
    "data = pd.read_csv('database/sentiment140.csv', encoding='ISO-8859-1')\n",
    "data = data.rename(columns = {\"@switchfoot http://twitpic.com/2y1zl - Awww, that's a bummer.  You shoulda got David Carr of Third Day to do it. ;D\" :\"text\"})\n",
    "data['origin'] = 'human'\n",
    "data['model'] = None\n",
    "data = data.drop(columns = ['0', '1467810369', 'Mon Apr 06 22:19:45 PDT 2009', 'NO_QUERY','_TheSpecialOne_'])\n",
    "data.head()"
   ]
  },
  {
   "cell_type": "code",
   "execution_count": 47,
   "id": "25543e3c",
   "metadata": {},
   "outputs": [],
   "source": [
    "data.isna().sum()\n",
    "data.duplicated().sum()\n",
    "\n",
    "data = data.dropna(subset=['text'])\n",
    "data = data.drop_duplicates()"
   ]
  },
  {
   "cell_type": "code",
   "execution_count": 48,
   "id": "074ce3a0",
   "metadata": {},
   "outputs": [],
   "source": [
    "#separando 44955 para completar os 500.000\n",
    "df_amostra = data.sample(n=44955, random_state=42) "
   ]
  },
  {
   "cell_type": "code",
   "execution_count": 49,
   "id": "32d06f89",
   "metadata": {},
   "outputs": [
    {
     "name": "stdout",
     "output_type": "stream",
     "text": [
      "<class 'pandas.core.frame.DataFrame'>\n",
      "Index: 500000 entries, 1567348 to 207277\n",
      "Data columns (total 3 columns):\n",
      " #   Column  Non-Null Count   Dtype \n",
      "---  ------  --------------   ----- \n",
      " 0   text    500000 non-null  object\n",
      " 1   origin  500000 non-null  object\n",
      " 2   model   0 non-null       object\n",
      "dtypes: object(3)\n",
      "memory usage: 15.3+ MB\n"
     ]
    }
   ],
   "source": [
    "dataset = pd.concat([df_amostra, dataset], axis=0)\n",
    "dataset.info()"
   ]
  },
  {
   "cell_type": "code",
   "execution_count": 52,
   "id": "e96a718c",
   "metadata": {},
   "outputs": [],
   "source": [
    "dataset.to_csv('df_pronto/df_human.csv', index=False)"
   ]
  }
 ],
 "metadata": {
  "kernelspec": {
   "display_name": "meu_ambiente",
   "language": "python",
   "name": "python3"
  },
  "language_info": {
   "codemirror_mode": {
    "name": "ipython",
    "version": 3
   },
   "file_extension": ".py",
   "mimetype": "text/x-python",
   "name": "python",
   "nbconvert_exporter": "python",
   "pygments_lexer": "ipython3",
   "version": "3.9.23"
  }
 },
 "nbformat": 4,
 "nbformat_minor": 5
}
