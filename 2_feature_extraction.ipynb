{
 "cells": [
  {
   "cell_type": "code",
   "execution_count": 1,
   "id": "97bed82e",
   "metadata": {},
   "outputs": [
    {
     "name": "stderr",
     "output_type": "stream",
     "text": [
      "Exception ignored in: <bound method IPythonKernel._clean_thread_parent_frames of <ipykernel.ipkernel.IPythonKernel object at 0x7f20c5a62190>>\n",
      "Traceback (most recent call last):\n",
      "  File \"/home/tammy.kojima/miniconda3/envs/meu_ambiente/lib/python3.9/site-packages/ipykernel/ipkernel.py\", line 775, in _clean_thread_parent_frames\n",
      "    def _clean_thread_parent_frames(\n",
      "KeyboardInterrupt: \n",
      "/home/tammy.kojima/miniconda3/envs/meu_ambiente/lib/python3.9/site-packages/torch/cuda/__init__.py:829: UserWarning: Can't initialize NVML\n",
      "  warnings.warn(\"Can't initialize NVML\")\n"
     ]
    }
   ],
   "source": [
    "import re\n",
    "from collections import Counter\n",
    "import spacy\n",
    "from math import log\n",
    "from typing import Dict"
   ]
  },
  {
   "cell_type": "code",
   "execution_count": 11,
   "id": "de8cb174",
   "metadata": {},
   "outputs": [],
   "source": [
    "def extract_lexical_features(doc, words) -> Dict:\n",
    "    word_count = len(words)\n",
    "    unique_words = set(words)\n",
    "    char_count = sum(len(word) for word in words)\n",
    "\n",
    "    features = {\n",
    "        'lexical_type_token_ratio': len(unique_words) / max(1, word_count),\n",
    "        'lexical_word_count': word_count,\n",
    "        'lexical_unique_words': len(unique_words),\n",
    "        'lexical_avg_word_length': char_count / max(1, word_count),\n",
    "        'lexical_word_length_variance': (\n",
    "            sum((len(word) - (char_count / max(1, word_count))) ** 2 for word in words) / max(1, word_count)\n",
    "        ),\n",
    "        'lexical_stopword_ratio': sum(1 for word in words if word.lower() in nlp.Defaults.stop_words) / max(1, word_count),\n",
    "    }\n",
    "\n",
    "    for n in range(1, 4):\n",
    "        ngrams = zip(*[words[i:] for i in range(n)])\n",
    "        features.update({f'lexical_{n}gram_{k}': v for k, v in Counter(ngrams).items()})\n",
    "    \n",
    "    return features"
   ]
  },
  {
   "cell_type": "code",
   "execution_count": 12,
   "id": "0d32c383",
   "metadata": {},
   "outputs": [],
   "source": [
    "def extract_syntactic_features(doc) -> Dict:\n",
    "    pos_tags = [token.pos_ for token in doc]\n",
    "    pos_bigrams = list(zip(pos_tags[:-1], pos_tags[1:]))\n",
    "    sentences = list(doc.sents)\n",
    "    sentence_lengths = [len([token for token in sent if not token.is_punct and not token.is_space]) for sent in sentences]\n",
    "\n",
    "    def entropy(counter, total):\n",
    "        return -sum((count / total) * log(count / total) for count in counter.values()) if total else 0\n",
    "\n",
    "    return {\n",
    "        'syntactic_pos_tag_entropy': entropy(Counter(pos_tags), len(pos_tags)),\n",
    "        'syntactic_pos_bigram_entropy': entropy(Counter(pos_bigrams), len(pos_bigrams)),\n",
    "        'syntactic_avg_sentence_length': sum(sentence_lengths) / max(1, len(sentence_lengths)),\n",
    "        'syntactic_subordinating_conj': sum(1 for token in doc if token.dep_ == 'mark') / max(1, len(sentences)),\n",
    "        'syntactic_comma_ratio': sum(1 for token in doc if token.text == ',') / max(1, len(sentences)),\n",
    "        'syntactic_punct_ratio': sum(1 for token in doc if token.is_punct) / max(1, len(doc)),\n",
    "    }"
   ]
  },
  {
   "cell_type": "code",
   "execution_count": 13,
   "id": "42ffc177",
   "metadata": {},
   "outputs": [],
   "source": [
    "EMOTICON_PATTERN = r'[:;=8][\\-^]?[)DpP(]'\n",
    "def extract_stylistic_features(text, word_count) -> Dict:\n",
    "    return {\n",
    "        'stylistic_random_uppercase': int(bool(re.search(r'\\b[a-zA-Z]*[A-Z][a-zA-Z]*[A-Z][a-zA-Z]*\\b', text))),\n",
    "        'stylistic_repeated_chars': int(bool(re.search(r'(.)\\1{1,}', text))),  # agora aceita >=2 repetições\n",
    "        'stylistic_repeated_words': int(bool(re.search(r'\\b(\\w+)\\s+\\1\\b', text.lower()))),\n",
    "        'stylistic_exclamation_density': text.count('!') / max(1, word_count),\n",
    "        'stylistic_question_density': text.count('?') / max(1, word_count),\n",
    "        'stylistic_ellipsis_count': text.count('...'),\n",
    "        'stylistic_emoji_density': len(re.findall(r'[\\U0001F600-\\U0001F64F\\U0001F300-\\U0001F5FF]', text)) / max(1, word_count),\n",
    "        'stylistic_emoticon_density': len(re.findall(EMOTICON_PATTERN, text)) / max(1, word_count),\n",
    "        'stylistic_capitalization_inconsistency': (\n",
    "            sum(1 for word in text.split() if not word.isupper() and not word.islower() and not word.istitle()) \n",
    "            / max(1, word_count)\n",
    "        ),\n",
    "    }"
   ]
  },
  {
   "cell_type": "code",
   "execution_count": 14,
   "id": "ad8f48dd",
   "metadata": {},
   "outputs": [],
   "source": [
    "def extract_structural_features(text, words, word_count) -> Dict:\n",
    "    return {\n",
    "        'structural_has_url': int(bool(re.search(r'http\\S+|www\\S+|https\\S+', text))),\n",
    "        'structural_has_mention': int(bool(re.search(r'@\\w+', text))),\n",
    "        'structural_has_hashtag': int(bool(re.search(r'#\\w+', text))),\n",
    "        'structural_is_retweet': int(text.strip().startswith('RT')),\n",
    "        'structural_url_density': len(re.findall(r'http\\S+|www\\S+|https\\S+', text)) / max(1, word_count),\n",
    "        'structural_mention_density': len(re.findall(r'@\\w+', text)) / max(1, word_count),\n",
    "        'structural_hashtag_density': len(re.findall(r'#\\w+', text)) / max(1, word_count),\n",
    "        'structural_extra_spaces': len(re.findall(r'\\s{2,}', text)) / max(1, word_count),\n",
    "        'structural_temporal_markers': len(\n",
    "            [word for word in words if word.lower() in {'today', 'yesterday', 'tomorrow', 'now', 'later'}]\n",
    "        ) / max(1, word_count),\n",
    "    }"
   ]
  },
  {
   "cell_type": "code",
   "execution_count": 15,
   "id": "09073d0a",
   "metadata": {},
   "outputs": [],
   "source": [
    "nlp = spacy.load(\"en_core_web_sm\")\n",
    "def extract_all_features(text) -> Dict:\n",
    "    doc = nlp(text)\n",
    "    words = [token.text.lower() for token in doc if not token.is_punct and not token.is_space]\n",
    "    word_count = len(words)\n",
    "\n",
    "    features = {}\n",
    "    features.update(extract_lexical_features(doc, words))\n",
    "    features.update(extract_syntactic_features(doc))\n",
    "    features.update(extract_stylistic_features(text, word_count))\n",
    "    features.update(extract_structural_features(text, words, word_count))\n",
    "    \n",
    "    return features"
   ]
  },
  {
   "cell_type": "code",
   "execution_count": 17,
   "id": "b3b51546",
   "metadata": {},
   "outputs": [
    {
     "name": "stdout",
     "output_type": "stream",
     "text": [
      "{'lexical_type_token_ratio': 0.9166666666666666, 'lexical_word_count': 12, 'lexical_unique_words': 11, 'lexical_avg_word_length': 3.9166666666666665, 'lexical_word_length_variance': 7.409722222222222, 'lexical_stopword_ratio': 0.4166666666666667, \"lexical_1gram_('omg',)\": 1, \"lexical_1gram_('i',)\": 1, \"lexical_1gram_('ca',)\": 1, 'lexical_1gram_(\"n\\'t\",)': 1, \"lexical_1gram_('believe',)\": 1, \"lexical_1gram_('this',)\": 1, \"lexical_1gram_('is',)\": 1, \"lexical_1gram_('happening',)\": 1, \"lexical_1gram_('😱',)\": 2, \"lexical_1gram_('shocked',)\": 1, \"lexical_1gram_('@friend',)\": 1, \"lexical_2gram_('omg', 'i')\": 1, \"lexical_2gram_('i', 'ca')\": 1, 'lexical_2gram_(\\'ca\\', \"n\\'t\")': 1, 'lexical_2gram_(\"n\\'t\", \\'believe\\')': 1, \"lexical_2gram_('believe', 'this')\": 1, \"lexical_2gram_('this', 'is')\": 1, \"lexical_2gram_('is', 'happening')\": 1, \"lexical_2gram_('happening', '😱')\": 1, \"lexical_2gram_('😱', '😱')\": 1, \"lexical_2gram_('😱', 'shocked')\": 1, \"lexical_2gram_('shocked', '@friend')\": 1, \"lexical_3gram_('omg', 'i', 'ca')\": 1, 'lexical_3gram_(\\'i\\', \\'ca\\', \"n\\'t\")': 1, 'lexical_3gram_(\\'ca\\', \"n\\'t\", \\'believe\\')': 1, 'lexical_3gram_(\"n\\'t\", \\'believe\\', \\'this\\')': 1, \"lexical_3gram_('believe', 'this', 'is')\": 1, \"lexical_3gram_('this', 'is', 'happening')\": 1, \"lexical_3gram_('is', 'happening', '😱')\": 1, \"lexical_3gram_('happening', '😱', '😱')\": 1, \"lexical_3gram_('😱', '😱', 'shocked')\": 1, \"lexical_3gram_('😱', 'shocked', '@friend')\": 1, 'syntactic_pos_tag_entropy': 1.9561874676604514, 'syntactic_pos_bigram_entropy': 2.599301927099795, 'syntactic_avg_sentence_length': 6.0, 'syntactic_subordinating_conj': 0.0, 'syntactic_comma_ratio': 0.0, 'syntactic_punct_ratio': 0.29411764705882354, 'stylistic_random_uppercase': 1, 'stylistic_repeated_chars': 1, 'stylistic_repeated_words': 0, 'stylistic_exclamation_density': 0.25, 'stylistic_question_density': 0.0, 'stylistic_ellipsis_count': 1, 'stylistic_emoji_density': 0.16666666666666666, 'stylistic_emoticon_density': 0.0, 'stylistic_capitalization_inconsistency': 0.08333333333333333, 'structural_has_url': 0, 'structural_has_mention': 1, 'structural_has_hashtag': 1, 'structural_is_retweet': 0, 'structural_url_density': 0.0, 'structural_mention_density': 0.08333333333333333, 'structural_hashtag_density': 0.08333333333333333, 'structural_extra_spaces': 0.0, 'structural_temporal_markers': 0.0}\n"
     ]
    }
   ],
   "source": [
    "features = extract_all_features(\"OMG!!! I can't believe this is happening... 😱😱 #shocked @friend\")\n",
    "print(features)"
   ]
  }
 ],
 "metadata": {
  "kernelspec": {
   "display_name": "meu_ambiente",
   "language": "python",
   "name": "python3"
  },
  "language_info": {
   "codemirror_mode": {
    "name": "ipython",
    "version": 3
   },
   "file_extension": ".py",
   "mimetype": "text/x-python",
   "name": "python",
   "nbconvert_exporter": "python",
   "pygments_lexer": "ipython3",
   "version": "3.9.23"
  }
 },
 "nbformat": 4,
 "nbformat_minor": 5
}
