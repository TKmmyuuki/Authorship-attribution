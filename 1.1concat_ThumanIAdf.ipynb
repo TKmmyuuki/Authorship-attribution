{
 "cells": [
  {
   "cell_type": "code",
   "execution_count": 16,
   "metadata": {},
   "outputs": [
    {
     "data": {
      "text/html": [
       "<div>\n",
       "<style scoped>\n",
       "    .dataframe tbody tr th:only-of-type {\n",
       "        vertical-align: middle;\n",
       "    }\n",
       "\n",
       "    .dataframe tbody tr th {\n",
       "        vertical-align: top;\n",
       "    }\n",
       "\n",
       "    .dataframe thead th {\n",
       "        text-align: right;\n",
       "    }\n",
       "</style>\n",
       "<table border=\"1\" class=\"dataframe\">\n",
       "  <thead>\n",
       "    <tr style=\"text-align: right;\">\n",
       "      <th></th>\n",
       "      <th>text</th>\n",
       "      <th>label_bias</th>\n",
       "    </tr>\n",
       "  </thead>\n",
       "  <tbody>\n",
       "    <tr>\n",
       "      <th>0</th>\n",
       "      <td>The protagonist from Grey's Anatomy, Ellen Pom...</td>\n",
       "      <td>Non-biased</td>\n",
       "    </tr>\n",
       "    <tr>\n",
       "      <th>1</th>\n",
       "      <td>Our rules are the most robust, the president c...</td>\n",
       "      <td>Biased</td>\n",
       "    </tr>\n",
       "    <tr>\n",
       "      <th>2</th>\n",
       "      <td>...associating outsiders with danger and extre...</td>\n",
       "      <td>Biased</td>\n",
       "    </tr>\n",
       "    <tr>\n",
       "      <th>3</th>\n",
       "      <td>...alarms were raised in the initial stages of...</td>\n",
       "      <td>Biased</td>\n",
       "    </tr>\n",
       "    <tr>\n",
       "      <th>4</th>\n",
       "      <td>[Movement for Equality] is fundamentally oppos...</td>\n",
       "      <td>Biased</td>\n",
       "    </tr>\n",
       "  </tbody>\n",
       "</table>\n",
       "</div>"
      ],
      "text/plain": [
       "                                                text  label_bias\n",
       "0  The protagonist from Grey's Anatomy, Ellen Pom...  Non-biased\n",
       "1  Our rules are the most robust, the president c...      Biased\n",
       "2  ...associating outsiders with danger and extre...      Biased\n",
       "3  ...alarms were raised in the initial stages of...      Biased\n",
       "4  [Movement for Equality] is fundamentally oppos...      Biased"
      ]
     },
     "execution_count": 16,
     "metadata": {},
     "output_type": "execute_result"
    }
   ],
   "source": [
    "import pandas as pd \n",
    "data = pd.read_csv('database/AI_social_media.csv') #https://huggingface.co/datasets/newsmediabias/Social_media_cleaned_data?row=1\n",
    "data.head()"
   ]
  },
  {
   "cell_type": "code",
   "execution_count": 17,
   "metadata": {},
   "outputs": [
    {
     "data": {
      "text/html": [
       "<div>\n",
       "<style scoped>\n",
       "    .dataframe tbody tr th:only-of-type {\n",
       "        vertical-align: middle;\n",
       "    }\n",
       "\n",
       "    .dataframe tbody tr th {\n",
       "        vertical-align: top;\n",
       "    }\n",
       "\n",
       "    .dataframe thead th {\n",
       "        text-align: right;\n",
       "    }\n",
       "</style>\n",
       "<table border=\"1\" class=\"dataframe\">\n",
       "  <thead>\n",
       "    <tr style=\"text-align: right;\">\n",
       "      <th></th>\n",
       "      <th>text</th>\n",
       "      <th>origin</th>\n",
       "      <th>model</th>\n",
       "    </tr>\n",
       "  </thead>\n",
       "  <tbody>\n",
       "    <tr>\n",
       "      <th>0</th>\n",
       "      <td>The protagonist from Grey's Anatomy, Ellen Pom...</td>\n",
       "      <td>AI</td>\n",
       "      <td>chat gpt</td>\n",
       "    </tr>\n",
       "    <tr>\n",
       "      <th>1</th>\n",
       "      <td>Our rules are the most robust, the president c...</td>\n",
       "      <td>AI</td>\n",
       "      <td>chat gpt</td>\n",
       "    </tr>\n",
       "    <tr>\n",
       "      <th>2</th>\n",
       "      <td>...associating outsiders with danger and extre...</td>\n",
       "      <td>AI</td>\n",
       "      <td>chat gpt</td>\n",
       "    </tr>\n",
       "    <tr>\n",
       "      <th>3</th>\n",
       "      <td>...alarms were raised in the initial stages of...</td>\n",
       "      <td>AI</td>\n",
       "      <td>chat gpt</td>\n",
       "    </tr>\n",
       "    <tr>\n",
       "      <th>4</th>\n",
       "      <td>[Movement for Equality] is fundamentally oppos...</td>\n",
       "      <td>AI</td>\n",
       "      <td>chat gpt</td>\n",
       "    </tr>\n",
       "  </tbody>\n",
       "</table>\n",
       "</div>"
      ],
      "text/plain": [
       "                                                text origin     model\n",
       "0  The protagonist from Grey's Anatomy, Ellen Pom...     AI  chat gpt\n",
       "1  Our rules are the most robust, the president c...     AI  chat gpt\n",
       "2  ...associating outsiders with danger and extre...     AI  chat gpt\n",
       "3  ...alarms were raised in the initial stages of...     AI  chat gpt\n",
       "4  [Movement for Equality] is fundamentally oppos...     AI  chat gpt"
      ]
     },
     "execution_count": 17,
     "metadata": {},
     "output_type": "execute_result"
    }
   ],
   "source": [
    "data['origin'] = 'AI'\n",
    "data['model'] = 'chat gpt'\n",
    "data = data.drop(columns = ['label_bias'])\n",
    "data.head()"
   ]
  },
  {
   "cell_type": "code",
   "execution_count": 18,
   "metadata": {},
   "outputs": [
    {
     "name": "stdout",
     "output_type": "stream",
     "text": [
      "<class 'pandas.core.frame.DataFrame'>\n",
      "RangeIndex: 3809 entries, 0 to 3808\n",
      "Data columns (total 3 columns):\n",
      " #   Column  Non-Null Count  Dtype \n",
      "---  ------  --------------  ----- \n",
      " 0   text    3809 non-null   object\n",
      " 1   origin  3809 non-null   object\n",
      " 2   model   3809 non-null   object\n",
      "dtypes: object(3)\n",
      "memory usage: 89.4+ KB\n"
     ]
    }
   ],
   "source": [
    "data.info()"
   ]
  },
  {
   "cell_type": "code",
   "execution_count": 19,
   "metadata": {},
   "outputs": [
    {
     "data": {
      "text/html": [
       "<div>\n",
       "<style scoped>\n",
       "    .dataframe tbody tr th:only-of-type {\n",
       "        vertical-align: middle;\n",
       "    }\n",
       "\n",
       "    .dataframe tbody tr th {\n",
       "        vertical-align: top;\n",
       "    }\n",
       "\n",
       "    .dataframe thead th {\n",
       "        text-align: right;\n",
       "    }\n",
       "</style>\n",
       "<table border=\"1\" class=\"dataframe\">\n",
       "  <thead>\n",
       "    <tr style=\"text-align: right;\">\n",
       "      <th></th>\n",
       "      <th>tweet_id</th>\n",
       "      <th>phrase</th>\n",
       "      <th>start</th>\n",
       "      <th>end</th>\n",
       "      <th>entityId</th>\n",
       "      <th>score</th>\n",
       "      <th>full_text</th>\n",
       "      <th>part</th>\n",
       "    </tr>\n",
       "  </thead>\n",
       "  <tbody>\n",
       "    <tr>\n",
       "      <th>0</th>\n",
       "      <td>1232470869324136448</td>\n",
       "      <td>['NO_PHRASE']</td>\n",
       "      <td>[-1]</td>\n",
       "      <td>[-1]</td>\n",
       "      <td>['NO_ENTITY']</td>\n",
       "      <td>[-1]</td>\n",
       "      <td>I've been humming this song by @otherlives for...</td>\n",
       "      <td>train</td>\n",
       "    </tr>\n",
       "    <tr>\n",
       "      <th>1</th>\n",
       "      <td>1232471220701908992</td>\n",
       "      <td>['NO_PHRASE']</td>\n",
       "      <td>[-1]</td>\n",
       "      <td>[-1]</td>\n",
       "      <td>['NO_ENTITY']</td>\n",
       "      <td>[-1]</td>\n",
       "      <td>@jemillerwbal Annnnd the pile grows deeper ! W...</td>\n",
       "      <td>train</td>\n",
       "    </tr>\n",
       "    <tr>\n",
       "      <th>2</th>\n",
       "      <td>1232486401507119104</td>\n",
       "      <td>['NO_PHRASE']</td>\n",
       "      <td>[-1]</td>\n",
       "      <td>[-1]</td>\n",
       "      <td>['NO_ENTITY']</td>\n",
       "      <td>[-1]</td>\n",
       "      <td>You ever been so heartbroken it makes you sick...</td>\n",
       "      <td>train</td>\n",
       "    </tr>\n",
       "    <tr>\n",
       "      <th>3</th>\n",
       "      <td>1232491348340555776</td>\n",
       "      <td>['NO_PHRASE']</td>\n",
       "      <td>[-1]</td>\n",
       "      <td>[-1]</td>\n",
       "      <td>['NO_ENTITY']</td>\n",
       "      <td>[-1]</td>\n",
       "      <td>9pm, my mom is texting me memes, my dad is tex...</td>\n",
       "      <td>train</td>\n",
       "    </tr>\n",
       "    <tr>\n",
       "      <th>4</th>\n",
       "      <td>1232495939027271680</td>\n",
       "      <td>['NO_PHRASE']</td>\n",
       "      <td>[-1]</td>\n",
       "      <td>[-1]</td>\n",
       "      <td>['NO_ENTITY']</td>\n",
       "      <td>[-1]</td>\n",
       "      <td>The Lenten season is upon us...see ya’ll in 40...</td>\n",
       "      <td>train</td>\n",
       "    </tr>\n",
       "  </tbody>\n",
       "</table>\n",
       "</div>"
      ],
      "text/plain": [
       "              tweet_id         phrase start   end       entityId score  \\\n",
       "0  1232470869324136448  ['NO_PHRASE']  [-1]  [-1]  ['NO_ENTITY']  [-1]   \n",
       "1  1232471220701908992  ['NO_PHRASE']  [-1]  [-1]  ['NO_ENTITY']  [-1]   \n",
       "2  1232486401507119104  ['NO_PHRASE']  [-1]  [-1]  ['NO_ENTITY']  [-1]   \n",
       "3  1232491348340555776  ['NO_PHRASE']  [-1]  [-1]  ['NO_ENTITY']  [-1]   \n",
       "4  1232495939027271680  ['NO_PHRASE']  [-1]  [-1]  ['NO_ENTITY']  [-1]   \n",
       "\n",
       "                                           full_text   part  \n",
       "0  I've been humming this song by @otherlives for...  train  \n",
       "1  @jemillerwbal Annnnd the pile grows deeper ! W...  train  \n",
       "2  You ever been so heartbroken it makes you sick...  train  \n",
       "3  9pm, my mom is texting me memes, my dad is tex...  train  \n",
       "4  The Lenten season is upon us...see ya’ll in 40...  train  "
      ]
     },
     "execution_count": 19,
     "metadata": {},
     "output_type": "execute_result"
    }
   ],
   "source": [
    "dataset = pd.read_csv('database/tweetNERD.csv') #https://huggingface.co/datasets/socialmediaie/TweetNERD\n",
    "dataset.head()"
   ]
  },
  {
   "cell_type": "code",
   "execution_count": 20,
   "metadata": {},
   "outputs": [
    {
     "data": {
      "text/html": [
       "<div>\n",
       "<style scoped>\n",
       "    .dataframe tbody tr th:only-of-type {\n",
       "        vertical-align: middle;\n",
       "    }\n",
       "\n",
       "    .dataframe tbody tr th {\n",
       "        vertical-align: top;\n",
       "    }\n",
       "\n",
       "    .dataframe thead th {\n",
       "        text-align: right;\n",
       "    }\n",
       "</style>\n",
       "<table border=\"1\" class=\"dataframe\">\n",
       "  <thead>\n",
       "    <tr style=\"text-align: right;\">\n",
       "      <th></th>\n",
       "      <th>text</th>\n",
       "      <th>origin</th>\n",
       "      <th>model</th>\n",
       "    </tr>\n",
       "  </thead>\n",
       "  <tbody>\n",
       "    <tr>\n",
       "      <th>0</th>\n",
       "      <td>I've been humming this song by @otherlives for...</td>\n",
       "      <td>human</td>\n",
       "      <td>None</td>\n",
       "    </tr>\n",
       "    <tr>\n",
       "      <th>1</th>\n",
       "      <td>@jemillerwbal Annnnd the pile grows deeper ! W...</td>\n",
       "      <td>human</td>\n",
       "      <td>None</td>\n",
       "    </tr>\n",
       "    <tr>\n",
       "      <th>2</th>\n",
       "      <td>You ever been so heartbroken it makes you sick...</td>\n",
       "      <td>human</td>\n",
       "      <td>None</td>\n",
       "    </tr>\n",
       "    <tr>\n",
       "      <th>3</th>\n",
       "      <td>9pm, my mom is texting me memes, my dad is tex...</td>\n",
       "      <td>human</td>\n",
       "      <td>None</td>\n",
       "    </tr>\n",
       "    <tr>\n",
       "      <th>4</th>\n",
       "      <td>The Lenten season is upon us...see ya’ll in 40...</td>\n",
       "      <td>human</td>\n",
       "      <td>None</td>\n",
       "    </tr>\n",
       "  </tbody>\n",
       "</table>\n",
       "</div>"
      ],
      "text/plain": [
       "                                                text origin model\n",
       "0  I've been humming this song by @otherlives for...  human  None\n",
       "1  @jemillerwbal Annnnd the pile grows deeper ! W...  human  None\n",
       "2  You ever been so heartbroken it makes you sick...  human  None\n",
       "3  9pm, my mom is texting me memes, my dad is tex...  human  None\n",
       "4  The Lenten season is upon us...see ya’ll in 40...  human  None"
      ]
     },
     "execution_count": 20,
     "metadata": {},
     "output_type": "execute_result"
    }
   ],
   "source": [
    "dataset = dataset.drop(columns = ['tweet_id', 'phrase', 'start', 'end', 'entityId', 'score', 'part'])\n",
    "dataset = dataset.rename(columns = {'full_text':'text'})\n",
    "dataset['origin'] = 'human'\n",
    "dataset['model'] = None\n",
    "dataset.head()"
   ]
  },
  {
   "cell_type": "code",
   "execution_count": 21,
   "metadata": {},
   "outputs": [
    {
     "name": "stdout",
     "output_type": "stream",
     "text": [
      "<class 'pandas.core.frame.DataFrame'>\n",
      "Index: 211087 entries, 0 to 207277\n",
      "Data columns (total 3 columns):\n",
      " #   Column  Non-Null Count   Dtype \n",
      "---  ------  --------------   ----- \n",
      " 0   text    211087 non-null  object\n",
      " 1   origin  211087 non-null  object\n",
      " 2   model   3809 non-null    object\n",
      "dtypes: object(3)\n",
      "memory usage: 6.4+ MB\n"
     ]
    }
   ],
   "source": [
    "dataset = pd.concat([data, dataset], axis=0)\n",
    "dataset.info()"
   ]
  },
  {
   "cell_type": "code",
   "execution_count": 22,
   "metadata": {},
   "outputs": [],
   "source": [
    "lista = ['tweet_eval_stance_abortion', 'tweet_eval_offencive','tweet_eval_hate', 'tweet_eval_irony', 'tweet_eval_emotion'] # https://huggingface.co/datasets/cardiffnlp/tweet_eval/blob/main/README.md\n",
    "for i in lista:\n",
    "    x = pd.read_csv(f'database/{i}.csv')\n",
    "    x = x.drop(columns = ['label'])\n",
    "    x['origin'] = 'human'\n",
    "    x['model'] = None\n",
    "    dataset = pd.concat([x, dataset], axis=0)"
   ]
  },
  {
   "cell_type": "code",
   "execution_count": 23,
   "metadata": {},
   "outputs": [
    {
     "name": "stdout",
     "output_type": "stream",
     "text": [
      "<class 'pandas.core.frame.DataFrame'>\n",
      "Index: 238709 entries, 0 to 207277\n",
      "Data columns (total 3 columns):\n",
      " #   Column  Non-Null Count   Dtype \n",
      "---  ------  --------------   ----- \n",
      " 0   text    238702 non-null  object\n",
      " 1   origin  238709 non-null  object\n",
      " 2   model   3809 non-null    object\n",
      "dtypes: object(3)\n",
      "memory usage: 7.3+ MB\n"
     ]
    }
   ],
   "source": [
    "dataset.info()"
   ]
  },
  {
   "cell_type": "code",
   "execution_count": 24,
   "metadata": {},
   "outputs": [
    {
     "data": {
      "text/plain": [
       "origin\n",
       "human    234900\n",
       "AI         3809\n",
       "Name: count, dtype: int64"
      ]
     },
     "execution_count": 24,
     "metadata": {},
     "output_type": "execute_result"
    }
   ],
   "source": [
    "dataset['origin'].value_counts()"
   ]
  },
  {
   "cell_type": "code",
   "execution_count": 25,
   "metadata": {},
   "outputs": [],
   "source": [
    "dataset.to_csv('database/concat_df.csv', index=False)"
   ]
  }
 ],
 "metadata": {
  "kernelspec": {
   "display_name": "Python 3",
   "language": "python",
   "name": "python3"
  },
  "language_info": {
   "codemirror_mode": {
    "name": "ipython",
    "version": 3
   },
   "file_extension": ".py",
   "mimetype": "text/x-python",
   "name": "python",
   "nbconvert_exporter": "python",
   "pygments_lexer": "ipython3",
   "version": "3.13.0"
  }
 },
 "nbformat": 4,
 "nbformat_minor": 2
}
